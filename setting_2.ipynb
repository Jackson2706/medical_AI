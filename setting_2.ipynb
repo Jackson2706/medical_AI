{
 "cells": [
  {
   "cell_type": "markdown",
   "metadata": {},
   "source": [
    "1. EDA"
   ]
  },
  {
   "cell_type": "markdown",
   "metadata": {},
   "source": []
  },
  {
   "cell_type": "markdown",
   "metadata": {
    "vscode": {
     "languageId": "plaintext"
    }
   },
   "source": [
    "2. Define utils of dataset"
   ]
  },
  {
   "cell_type": "code",
   "execution_count": 9,
   "metadata": {},
   "outputs": [],
   "source": [
    "def pair_comparision(a,b):\n",
    "    if a == b:\n",
    "        return 1\n",
    "    else:\n",
    "        return 0"
   ]
  },
  {
   "cell_type": "code",
   "execution_count": 10,
   "metadata": {},
   "outputs": [],
   "source": [
    "def gram_matrix(list_of_score):\n",
    "    n = len(list_of_score)\n",
    "    gram_matrix = [[0 for _ in range(n)] for _ in range(n)]\n",
    "\n",
    "    for i in range(n):\n",
    "        for j in range(n):\n",
    "            gram_matrix[i][j] = pair_comparision(list_of_score[i], list_of_score[j])\n",
    "    \n",
    "    return gram_matrix"
   ]
  },
  {
   "cell_type": "code",
   "execution_count": 11,
   "metadata": {},
   "outputs": [
    {
     "data": {
      "text/plain": [
       "[[1, 0, 0, 0, 0, 0, 0, 1, 0],\n",
       " [0, 1, 0, 1, 0, 0, 1, 0, 0],\n",
       " [0, 0, 1, 0, 1, 0, 0, 0, 0],\n",
       " [0, 1, 0, 1, 0, 0, 1, 0, 0],\n",
       " [0, 0, 1, 0, 1, 0, 0, 0, 0],\n",
       " [0, 0, 0, 0, 0, 1, 0, 0, 1],\n",
       " [0, 1, 0, 1, 0, 0, 1, 0, 0],\n",
       " [1, 0, 0, 0, 0, 0, 0, 1, 0],\n",
       " [0, 0, 0, 0, 0, 1, 0, 0, 1]]"
      ]
     },
     "execution_count": 11,
     "metadata": {},
     "output_type": "execute_result"
    }
   ],
   "source": [
    "# Test\n",
    "list_of_score = [1,2,3,2,3,4,2,1,4]\n",
    "gram_matrix(list_of_score)"
   ]
  },
  {
   "cell_type": "code",
   "execution_count": 12,
   "metadata": {},
   "outputs": [],
   "source": [
    "# Define dataset"
   ]
  },
  {
   "cell_type": "markdown",
   "metadata": {},
   "source": [
    "2. Model"
   ]
  },
  {
   "cell_type": "code",
   "execution_count": 13,
   "metadata": {},
   "outputs": [],
   "source": [
    "from torch import nn\n",
    "import torch\n",
    "import torchvision.models as models\n",
    "import timm\n",
    "\n",
    "class Setting_2_model(nn.Module):\n",
    "    def __init__(self, model_name: str, embed_dim: int):\n",
    "        super(Setting_2_model, self).__init__()\n",
    "\n",
    "        # Load the specified pre-trained model\n",
    "        if model_name.startswith('resnet'):\n",
    "            if model_name == 'resnet50':\n",
    "                self.model = models.resnet50(pretrained=True)\n",
    "            elif model_name == 'resnet101':\n",
    "                self.model = models.resnet101(pretrained=True)\n",
    "            elif model_name == 'resnet152':\n",
    "                self.model = models.resnet152(pretrained=True)\n",
    "            else:\n",
    "                raise ValueError(f\"Unsupported ResNet model: {model_name}\")\n",
    "                \n",
    "            num_features = self.model.fc.in_features\n",
    "            self.model.fc = nn.Linear(num_features, embed_dim)\n",
    "        \n",
    "        elif model_name.startswith('densenet'):\n",
    "            if model_name == 'densenet121':\n",
    "                self.model = models.densenet121(pretrained=True)\n",
    "            else:\n",
    "                raise ValueError(f\"Unsupported DenseNet model: {model_name}\")\n",
    "                \n",
    "            num_features = self.model.classifier.in_features\n",
    "            self.model.classifier = nn.Linear(num_features, embed_dim)\n",
    "        \n",
    "        elif model_name.startswith('vit'):\n",
    "            self.model = timm.create_model(model_name, pretrained=True)\n",
    "\n",
    "            num_features = self.model.head.in_features\n",
    "            self.model.head = nn.Linear(num_features, embed_dim)\n",
    "        \n",
    "        else:\n",
    "            raise ValueError(f\"Unsupported model: {model_name}\")\n",
    "    \n",
    "    def forward(self, images):\n",
    "        embeddings = []\n",
    "        for image in images:\n",
    "            image_embedding = self.model(image)\n",
    "            embeddings.append(image_embedding)\n",
    "        embeddings_tensor = torch.cat(embeddings, dim=0)\n",
    "        embeddings_normalized = torch.nn.functional.normalize(embeddings_tensor, p=2, dim=1)\n",
    "\n",
    "        # Tính gram matrix\n",
    "        gram_matrix = torch.matmul(embeddings_normalized, embeddings_normalized.transpose(0, 1))\n",
    "        return gram_matrix\n",
    "    \n",
    "    "
   ]
  },
  {
   "cell_type": "markdown",
   "metadata": {},
   "source": [
    "3. Loss"
   ]
  },
  {
   "cell_type": "code",
   "execution_count": 14,
   "metadata": {},
   "outputs": [],
   "source": [
    "from torch import nn\n",
    "\n",
    "# Hàm tính Constrastive Learning Loss\n",
    "class ConstrastiveLoss(nn.Module):\n",
    "    def __init__(self, margin=1.0):\n",
    "        super(ConstrastiveLoss, self).__init__()\n",
    "        self.margin = margin\n",
    "\n",
    "    def forward(self, gram_matrix_predicted, gram_matrix_ground_truth):\n",
    "        # Tính khoảng cách Frobenius giữa hai ma trận Gram\n",
    "        distance = torch.norm(gram_matrix_predicted - gram_matrix_ground_truth, p='fro')\n",
    "        \n",
    "        # Tính Constrastive Learning Loss\n",
    "        loss = torch.clamp(distance - self.margin, min=0.0)\n",
    "        return loss\n",
    " "
   ]
  },
  {
   "cell_type": "code",
   "execution_count": 17,
   "metadata": {},
   "outputs": [
    {
     "name": "stdout",
     "output_type": "stream",
     "text": [
      "tensor(1.8284)\n"
     ]
    }
   ],
   "source": [
    "# test\n",
    "import torch\n",
    "\n",
    "gt = [1,2,3,2,3,4,2,1,4]\n",
    "gt = torch.tensor(gram_matrix(gt),dtype=torch.float)\n",
    "\n",
    "pred = [1,2,3,2,3,4,2,2,4]\n",
    "pred = torch.tensor(gram_matrix(pred), dtype=torch.float)\n",
    "\n",
    "criterion = ConstrastiveLoss()\n",
    "loss = criterion(pred, gt)\n",
    "\n",
    "print(loss)"
   ]
  }
 ],
 "metadata": {
  "kernelspec": {
   "display_name": "Paper",
   "language": "python",
   "name": "python3"
  },
  "language_info": {
   "codemirror_mode": {
    "name": "ipython",
    "version": 3
   },
   "file_extension": ".py",
   "mimetype": "text/x-python",
   "name": "python",
   "nbconvert_exporter": "python",
   "pygments_lexer": "ipython3",
   "version": "3.8.18"
  }
 },
 "nbformat": 4,
 "nbformat_minor": 2
}
